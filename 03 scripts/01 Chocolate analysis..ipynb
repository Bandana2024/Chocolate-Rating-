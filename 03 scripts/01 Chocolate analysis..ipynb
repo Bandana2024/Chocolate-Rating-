{
 "cells": [
  {
   "cell_type": "markdown",
   "id": "5c8e8e29",
   "metadata": {},
   "source": [
    "## Chocolate rating\n",
    "Cleaning process and basic analysis \n"
   ]
  },
  {
   "cell_type": "code",
   "execution_count": 5,
   "id": "ba9f1bba",
   "metadata": {},
   "outputs": [],
   "source": [
    "#importing libraries\n",
    "import pandas as pd\n",
    "import numpy as np\n",
    "import os\n"
   ]
  },
  {
   "cell_type": "code",
   "execution_count": 8,
   "id": "98cb9b9e",
   "metadata": {},
   "outputs": [],
   "source": [
    "#importing the data file\n",
    "df = pd.read_csv('C:\\\\Users\\\\banda\\\\Chocolate\\\\02 Data\\\\Original data\\\\flavors_of_cacao.csv', encoding='ISO-8859-1', index_col=False)\n",
    "\n"
   ]
  },
  {
   "cell_type": "code",
   "execution_count": 9,
   "id": "ccad542d",
   "metadata": {},
   "outputs": [
    {
     "data": {
      "text/plain": [
       "<bound method DataFrame.info of      Company \\n(Maker-if known) Specific Bean Origin\\nor Bar Name   REF  \\\n",
       "0                      A. Morin                       Agua Grande  1876   \n",
       "1                      A. Morin                             Kpime  1676   \n",
       "2                      A. Morin                            Atsane  1676   \n",
       "3                      A. Morin                             Akata  1680   \n",
       "4                      A. Morin                            Quilla  1704   \n",
       "...                         ...                               ...   ...   \n",
       "1790                     Zotter                              Peru   647   \n",
       "1791                     Zotter                             Congo   749   \n",
       "1792                     Zotter                      Kerala State   749   \n",
       "1793                     Zotter                      Kerala State   781   \n",
       "1794                     Zotter                Brazil, Mitzi Blue   486   \n",
       "\n",
       "      Review\\nDate Cocoa\\nPercent Company\\nLocation  Rating Bean\\nType  \\\n",
       "0             2016            63%            France    3.75         Â    \n",
       "1             2015            70%            France    2.75         Â    \n",
       "2             2015            70%            France    3.00         Â    \n",
       "3             2015            70%            France    3.50         Â    \n",
       "4             2015            70%            France    3.50         Â    \n",
       "...            ...            ...               ...     ...        ...   \n",
       "1790          2011            70%           Austria    3.75         Â    \n",
       "1791          2011            65%           Austria    3.00  Forastero   \n",
       "1792          2011            65%           Austria    3.50  Forastero   \n",
       "1793          2011            62%           Austria    3.25         Â    \n",
       "1794          2010            65%           Austria    3.00         Â    \n",
       "\n",
       "     Broad Bean\\nOrigin  \n",
       "0              Sao Tome  \n",
       "1                  Togo  \n",
       "2                  Togo  \n",
       "3                  Togo  \n",
       "4                  Peru  \n",
       "...                 ...  \n",
       "1790               Peru  \n",
       "1791              Congo  \n",
       "1792              India  \n",
       "1793              India  \n",
       "1794             Brazil  \n",
       "\n",
       "[1795 rows x 9 columns]>"
      ]
     },
     "execution_count": 9,
     "metadata": {},
     "output_type": "execute_result"
    }
   ],
   "source": [
    "# looking at all information regarding the data\n",
    "df.info\n"
   ]
  },
  {
   "cell_type": "code",
   "execution_count": 10,
   "id": "91d8261b",
   "metadata": {},
   "outputs": [
    {
     "data": {
      "text/html": [
       "<div>\n",
       "<style scoped>\n",
       "    .dataframe tbody tr th:only-of-type {\n",
       "        vertical-align: middle;\n",
       "    }\n",
       "\n",
       "    .dataframe tbody tr th {\n",
       "        vertical-align: top;\n",
       "    }\n",
       "\n",
       "    .dataframe thead th {\n",
       "        text-align: right;\n",
       "    }\n",
       "</style>\n",
       "<table border=\"1\" class=\"dataframe\">\n",
       "  <thead>\n",
       "    <tr style=\"text-align: right;\">\n",
       "      <th></th>\n",
       "      <th>Company \\n(Maker-if known)</th>\n",
       "      <th>Specific Bean Origin\\nor Bar Name</th>\n",
       "      <th>REF</th>\n",
       "      <th>Review\\nDate</th>\n",
       "      <th>Cocoa\\nPercent</th>\n",
       "      <th>Company\\nLocation</th>\n",
       "      <th>Rating</th>\n",
       "      <th>Bean\\nType</th>\n",
       "      <th>Broad Bean\\nOrigin</th>\n",
       "    </tr>\n",
       "  </thead>\n",
       "  <tbody>\n",
       "    <tr>\n",
       "      <th>0</th>\n",
       "      <td>A. Morin</td>\n",
       "      <td>Agua Grande</td>\n",
       "      <td>1876</td>\n",
       "      <td>2016</td>\n",
       "      <td>63%</td>\n",
       "      <td>France</td>\n",
       "      <td>3.75</td>\n",
       "      <td>Â</td>\n",
       "      <td>Sao Tome</td>\n",
       "    </tr>\n",
       "    <tr>\n",
       "      <th>1</th>\n",
       "      <td>A. Morin</td>\n",
       "      <td>Kpime</td>\n",
       "      <td>1676</td>\n",
       "      <td>2015</td>\n",
       "      <td>70%</td>\n",
       "      <td>France</td>\n",
       "      <td>2.75</td>\n",
       "      <td>Â</td>\n",
       "      <td>Togo</td>\n",
       "    </tr>\n",
       "    <tr>\n",
       "      <th>2</th>\n",
       "      <td>A. Morin</td>\n",
       "      <td>Atsane</td>\n",
       "      <td>1676</td>\n",
       "      <td>2015</td>\n",
       "      <td>70%</td>\n",
       "      <td>France</td>\n",
       "      <td>3.00</td>\n",
       "      <td>Â</td>\n",
       "      <td>Togo</td>\n",
       "    </tr>\n",
       "    <tr>\n",
       "      <th>3</th>\n",
       "      <td>A. Morin</td>\n",
       "      <td>Akata</td>\n",
       "      <td>1680</td>\n",
       "      <td>2015</td>\n",
       "      <td>70%</td>\n",
       "      <td>France</td>\n",
       "      <td>3.50</td>\n",
       "      <td>Â</td>\n",
       "      <td>Togo</td>\n",
       "    </tr>\n",
       "    <tr>\n",
       "      <th>4</th>\n",
       "      <td>A. Morin</td>\n",
       "      <td>Quilla</td>\n",
       "      <td>1704</td>\n",
       "      <td>2015</td>\n",
       "      <td>70%</td>\n",
       "      <td>France</td>\n",
       "      <td>3.50</td>\n",
       "      <td>Â</td>\n",
       "      <td>Peru</td>\n",
       "    </tr>\n",
       "  </tbody>\n",
       "</table>\n",
       "</div>"
      ],
      "text/plain": [
       "  Company \\n(Maker-if known) Specific Bean Origin\\nor Bar Name   REF  \\\n",
       "0                   A. Morin                       Agua Grande  1876   \n",
       "1                   A. Morin                             Kpime  1676   \n",
       "2                   A. Morin                            Atsane  1676   \n",
       "3                   A. Morin                             Akata  1680   \n",
       "4                   A. Morin                            Quilla  1704   \n",
       "\n",
       "   Review\\nDate Cocoa\\nPercent Company\\nLocation  Rating Bean\\nType  \\\n",
       "0          2016            63%            France    3.75         Â    \n",
       "1          2015            70%            France    2.75         Â    \n",
       "2          2015            70%            France    3.00         Â    \n",
       "3          2015            70%            France    3.50         Â    \n",
       "4          2015            70%            France    3.50         Â    \n",
       "\n",
       "  Broad Bean\\nOrigin  \n",
       "0           Sao Tome  \n",
       "1               Togo  \n",
       "2               Togo  \n",
       "3               Togo  \n",
       "4               Peru  "
      ]
     },
     "execution_count": 10,
     "metadata": {},
     "output_type": "execute_result"
    }
   ],
   "source": [
    "#looking at the structure head of the data set\n",
    "df.head()"
   ]
  },
  {
   "cell_type": "code",
   "execution_count": 11,
   "id": "3fba0204",
   "metadata": {},
   "outputs": [
    {
     "data": {
      "text/plain": [
       "(1795, 9)"
      ]
     },
     "execution_count": 11,
     "metadata": {},
     "output_type": "execute_result"
    }
   ],
   "source": [
    "# identifying the columns and rows.\n",
    "df.shape\n"
   ]
  },
  {
   "cell_type": "code",
   "execution_count": 12,
   "id": "fb7fcdf0",
   "metadata": {},
   "outputs": [
    {
     "data": {
      "text/plain": [
       "Company \\n(Maker-if known)           0\n",
       "Specific Bean Origin\\nor Bar Name    0\n",
       "REF                                  0\n",
       "Review\\nDate                         0\n",
       "Cocoa\\nPercent                       0\n",
       "Company\\nLocation                    0\n",
       "Rating                               0\n",
       "Bean\\nType                           1\n",
       "Broad Bean\\nOrigin                   1\n",
       "dtype: int64"
      ]
     },
     "execution_count": 12,
     "metadata": {},
     "output_type": "execute_result"
    }
   ],
   "source": [
    "# searching for null values\n",
    "df.isnull().sum()"
   ]
  },
  {
   "cell_type": "code",
   "execution_count": 13,
   "id": "7ea3081d",
   "metadata": {},
   "outputs": [],
   "source": [
    "# creating a subdata to see the nan value\n",
    "missing_bean='Bean\\nType'\n",
    "rows_with_null = df[df['Bean\\nType'].isnull()]"
   ]
  },
  {
   "cell_type": "code",
   "execution_count": 16,
   "id": "df63bde8",
   "metadata": {
    "scrolled": true
   },
   "outputs": [
    {
     "data": {
      "text/html": [
       "<div>\n",
       "<style scoped>\n",
       "    .dataframe tbody tr th:only-of-type {\n",
       "        vertical-align: middle;\n",
       "    }\n",
       "\n",
       "    .dataframe tbody tr th {\n",
       "        vertical-align: top;\n",
       "    }\n",
       "\n",
       "    .dataframe thead th {\n",
       "        text-align: right;\n",
       "    }\n",
       "</style>\n",
       "<table border=\"1\" class=\"dataframe\">\n",
       "  <thead>\n",
       "    <tr style=\"text-align: right;\">\n",
       "      <th></th>\n",
       "      <th>Company \\n(Maker-if known)</th>\n",
       "      <th>Specific Bean Origin\\nor Bar Name</th>\n",
       "      <th>REF</th>\n",
       "      <th>Review\\nDate</th>\n",
       "      <th>Cocoa\\nPercent</th>\n",
       "      <th>Company\\nLocation</th>\n",
       "      <th>Rating</th>\n",
       "      <th>Bean\\nType</th>\n",
       "      <th>Broad Bean\\nOrigin</th>\n",
       "    </tr>\n",
       "  </thead>\n",
       "  <tbody>\n",
       "    <tr>\n",
       "      <th>1544</th>\n",
       "      <td>Soma</td>\n",
       "      <td>Three Amigos(Chuao, Wild Bolivia, D.R.)</td>\n",
       "      <td>676</td>\n",
       "      <td>2011</td>\n",
       "      <td>70%</td>\n",
       "      <td>Canada</td>\n",
       "      <td>4.0</td>\n",
       "      <td>NaN</td>\n",
       "      <td>Ven, Bolivia, D.R.</td>\n",
       "    </tr>\n",
       "  </tbody>\n",
       "</table>\n",
       "</div>"
      ],
      "text/plain": [
       "     Company \\n(Maker-if known)        Specific Bean Origin\\nor Bar Name  REF  \\\n",
       "1544                       Soma  Three Amigos(Chuao, Wild Bolivia, D.R.)  676   \n",
       "\n",
       "      Review\\nDate Cocoa\\nPercent Company\\nLocation  Rating Bean\\nType  \\\n",
       "1544          2011            70%            Canada     4.0        NaN   \n",
       "\n",
       "      Broad Bean\\nOrigin  \n",
       "1544  Ven, Bolivia, D.R.  "
      ]
     },
     "execution_count": 16,
     "metadata": {},
     "output_type": "execute_result"
    }
   ],
   "source": [
    "rows_with_null"
   ]
  },
  {
   "cell_type": "code",
   "execution_count": 17,
   "id": "8b583718",
   "metadata": {},
   "outputs": [],
   "source": [
    "# creating a subdata to see the nan value\n",
    "missing_beanorg='Broad Bean\\nOrigin'\n",
    "rows_with_null2 = df[df['Broad Bean\\nOrigin'].isnull()]"
   ]
  },
  {
   "cell_type": "code",
   "execution_count": 18,
   "id": "27f8835a",
   "metadata": {},
   "outputs": [
    {
     "data": {
      "text/html": [
       "<div>\n",
       "<style scoped>\n",
       "    .dataframe tbody tr th:only-of-type {\n",
       "        vertical-align: middle;\n",
       "    }\n",
       "\n",
       "    .dataframe tbody tr th {\n",
       "        vertical-align: top;\n",
       "    }\n",
       "\n",
       "    .dataframe thead th {\n",
       "        text-align: right;\n",
       "    }\n",
       "</style>\n",
       "<table border=\"1\" class=\"dataframe\">\n",
       "  <thead>\n",
       "    <tr style=\"text-align: right;\">\n",
       "      <th></th>\n",
       "      <th>Company \\n(Maker-if known)</th>\n",
       "      <th>Specific Bean Origin\\nor Bar Name</th>\n",
       "      <th>REF</th>\n",
       "      <th>Review\\nDate</th>\n",
       "      <th>Cocoa\\nPercent</th>\n",
       "      <th>Company\\nLocation</th>\n",
       "      <th>Rating</th>\n",
       "      <th>Bean\\nType</th>\n",
       "      <th>Broad Bean\\nOrigin</th>\n",
       "    </tr>\n",
       "  </thead>\n",
       "  <tbody>\n",
       "    <tr>\n",
       "      <th>1072</th>\n",
       "      <td>Mast Brothers</td>\n",
       "      <td>Madagascar</td>\n",
       "      <td>999</td>\n",
       "      <td>2012</td>\n",
       "      <td>72%</td>\n",
       "      <td>U.S.A.</td>\n",
       "      <td>2.5</td>\n",
       "      <td>Trinitario</td>\n",
       "      <td>NaN</td>\n",
       "    </tr>\n",
       "  </tbody>\n",
       "</table>\n",
       "</div>"
      ],
      "text/plain": [
       "     Company \\n(Maker-if known) Specific Bean Origin\\nor Bar Name  REF  \\\n",
       "1072              Mast Brothers                        Madagascar  999   \n",
       "\n",
       "      Review\\nDate Cocoa\\nPercent Company\\nLocation  Rating  Bean\\nType  \\\n",
       "1072          2012            72%            U.S.A.     2.5  Trinitario   \n",
       "\n",
       "     Broad Bean\\nOrigin  \n",
       "1072                NaN  "
      ]
     },
     "execution_count": 18,
     "metadata": {},
     "output_type": "execute_result"
    }
   ],
   "source": [
    "rows_with_null2"
   ]
  },
  {
   "cell_type": "code",
   "execution_count": 24,
   "id": "6ec449e8",
   "metadata": {},
   "outputs": [
    {
     "name": "stdout",
     "output_type": "stream",
     "text": [
      "Bean\n",
      "Type\n",
      "Broad Bean\n",
      "Origin\n"
     ]
    },
    {
     "name": "stderr",
     "output_type": "stream",
     "text": [
      "C:\\Users\\banda\\AppData\\Local\\Temp\\ipykernel_4340\\983484196.py:3: FutureWarning: DataFrame.applymap has been deprecated. Use DataFrame.map instead.\n",
      "  weird = (df[[col]].applymap(type) != df[[col]].iloc[0].apply(type)).any(axis=1)\n",
      "C:\\Users\\banda\\AppData\\Local\\Temp\\ipykernel_4340\\983484196.py:3: FutureWarning: DataFrame.applymap has been deprecated. Use DataFrame.map instead.\n",
      "  weird = (df[[col]].applymap(type) != df[[col]].iloc[0].apply(type)).any(axis=1)\n",
      "C:\\Users\\banda\\AppData\\Local\\Temp\\ipykernel_4340\\983484196.py:3: FutureWarning: DataFrame.applymap has been deprecated. Use DataFrame.map instead.\n",
      "  weird = (df[[col]].applymap(type) != df[[col]].iloc[0].apply(type)).any(axis=1)\n",
      "C:\\Users\\banda\\AppData\\Local\\Temp\\ipykernel_4340\\983484196.py:3: FutureWarning: DataFrame.applymap has been deprecated. Use DataFrame.map instead.\n",
      "  weird = (df[[col]].applymap(type) != df[[col]].iloc[0].apply(type)).any(axis=1)\n",
      "C:\\Users\\banda\\AppData\\Local\\Temp\\ipykernel_4340\\983484196.py:3: FutureWarning: DataFrame.applymap has been deprecated. Use DataFrame.map instead.\n",
      "  weird = (df[[col]].applymap(type) != df[[col]].iloc[0].apply(type)).any(axis=1)\n",
      "C:\\Users\\banda\\AppData\\Local\\Temp\\ipykernel_4340\\983484196.py:3: FutureWarning: DataFrame.applymap has been deprecated. Use DataFrame.map instead.\n",
      "  weird = (df[[col]].applymap(type) != df[[col]].iloc[0].apply(type)).any(axis=1)\n",
      "C:\\Users\\banda\\AppData\\Local\\Temp\\ipykernel_4340\\983484196.py:3: FutureWarning: DataFrame.applymap has been deprecated. Use DataFrame.map instead.\n",
      "  weird = (df[[col]].applymap(type) != df[[col]].iloc[0].apply(type)).any(axis=1)\n",
      "C:\\Users\\banda\\AppData\\Local\\Temp\\ipykernel_4340\\983484196.py:3: FutureWarning: DataFrame.applymap has been deprecated. Use DataFrame.map instead.\n",
      "  weird = (df[[col]].applymap(type) != df[[col]].iloc[0].apply(type)).any(axis=1)\n",
      "C:\\Users\\banda\\AppData\\Local\\Temp\\ipykernel_4340\\983484196.py:3: FutureWarning: DataFrame.applymap has been deprecated. Use DataFrame.map instead.\n",
      "  weird = (df[[col]].applymap(type) != df[[col]].iloc[0].apply(type)).any(axis=1)\n"
     ]
    }
   ],
   "source": [
    "# Checking for mixed data types\n",
    "for col in df.columns.tolist():\n",
    "    weird = (df[[col]].applymap(type) != df[[col]].iloc[0].apply(type)).any(axis=1)\n",
    "    if len(df[weird]) > 0:\n",
    "        print(col)"
   ]
  },
  {
   "cell_type": "markdown",
   "id": "b5f73368",
   "metadata": {},
   "source": [
    "No mix datatype were found in this data type. "
   ]
  },
  {
   "cell_type": "code",
   "execution_count": null,
   "id": "71ca4472",
   "metadata": {},
   "outputs": [],
   "source": [
    "#creating new subset that contains only duplicated\n",
    "df_clean1_dup = df_clean1[df_clean1.duplicated()]"
   ]
  },
  {
   "cell_type": "code",
   "execution_count": null,
   "id": "b2dab669",
   "metadata": {},
   "outputs": [],
   "source": [
    "df_clean1_dup"
   ]
  },
  {
   "cell_type": "markdown",
   "id": "fb749b98",
   "metadata": {},
   "source": [
    "No duplicates were identified."
   ]
  },
  {
   "cell_type": "code",
   "execution_count": null,
   "id": "71580034",
   "metadata": {},
   "outputs": [],
   "source": [
    "df_clean1.describe()"
   ]
  },
  {
   "cell_type": "code",
   "execution_count": null,
   "id": "cceceb96",
   "metadata": {},
   "outputs": [],
   "source": [
    "# review/n Date can be in date time data type\n",
    "df_clean1['Review\\nDate'].dtype"
   ]
  },
  {
   "cell_type": "code",
   "execution_count": null,
   "id": "b594f6a3",
   "metadata": {},
   "outputs": [],
   "source": [
    "df_clean1.dtypes"
   ]
  },
  {
   "cell_type": "code",
   "execution_count": null,
   "id": "7052efa4",
   "metadata": {},
   "outputs": [],
   "source": [
    "df_clean1['Rating'] = df_clean1['Rating'].astype('float16')"
   ]
  },
  {
   "cell_type": "code",
   "execution_count": null,
   "id": "0a2897a5",
   "metadata": {},
   "outputs": [],
   "source": [
    "df_clean1['Rating'].dtypes"
   ]
  },
  {
   "cell_type": "code",
   "execution_count": null,
   "id": "c72a546d",
   "metadata": {},
   "outputs": [],
   "source": [
    "df_clean1['REF'] = df_clean1['REF'].astype('int32')"
   ]
  },
  {
   "cell_type": "code",
   "execution_count": null,
   "id": "419f2117",
   "metadata": {},
   "outputs": [],
   "source": [
    "df_clean1['REF'].dtypes"
   ]
  },
  {
   "cell_type": "code",
   "execution_count": null,
   "id": "3c123898",
   "metadata": {},
   "outputs": [],
   "source": [
    "# checking if data type were changed\n",
    "df_clean1.dtypes"
   ]
  },
  {
   "cell_type": "code",
   "execution_count": null,
   "id": "1c296d64",
   "metadata": {},
   "outputs": [],
   "source": [
    "# Convert the 'Review\\nDate' column to datetime\n",
    "df_clean1['Review\\nDate'] = pd.to_datetime(df_clean1['Review\\nDate'], errors='coerce')"
   ]
  },
  {
   "cell_type": "markdown",
   "id": "d280204d",
   "metadata": {},
   "source": [
    "change columnn name from \"REF\" to Reference number\""
   ]
  },
  {
   "cell_type": "code",
   "execution_count": null,
   "id": "fef2bd1f",
   "metadata": {},
   "outputs": [],
   "source": [
    "# changing column name \n",
    "df_clean1.rename(columns = {'REF' : 'Reference Number'}, inplace = True) #changing the name "
   ]
  },
  {
   "cell_type": "code",
   "execution_count": null,
   "id": "c0da16fd",
   "metadata": {},
   "outputs": [],
   "source": [
    "# checking if the data type changed? Yes\n",
    "df_clean1['Review\\nDate'].dtype"
   ]
  },
  {
   "cell_type": "code",
   "execution_count": null,
   "id": "ca61f0e0",
   "metadata": {},
   "outputs": [],
   "source": [
    "df_clean1.head()"
   ]
  },
  {
   "cell_type": "code",
   "execution_count": null,
   "id": "cfc602e3",
   "metadata": {},
   "outputs": [],
   "source": [
    "# Find the minimum and maximum dates\n",
    "min_date = df_clean1['Review\\nDate'].min()\n",
    "max_date = df_clean1['Review\\nDate'].max()"
   ]
  },
  {
   "cell_type": "code",
   "execution_count": null,
   "id": "6fb4a8dc",
   "metadata": {},
   "outputs": [],
   "source": [
    "unique_countries_count = df_clean1['Company\\nLocation'].nunique()\n"
   ]
  },
  {
   "cell_type": "code",
   "execution_count": null,
   "id": "f70363ff",
   "metadata": {},
   "outputs": [],
   "source": [
    "min_date"
   ]
  },
  {
   "cell_type": "code",
   "execution_count": null,
   "id": "a4162c2b",
   "metadata": {},
   "outputs": [],
   "source": [
    "max_date"
   ]
  },
  {
   "cell_type": "code",
   "execution_count": null,
   "id": "207927c2",
   "metadata": {},
   "outputs": [],
   "source": [
    "# To check if there are any missing values in the entire DataFrame\n",
    "if df_clean1.isnull().values.any():\n",
    "    print(\"There are missing values in the DataFrame.\")\n",
    "else:\n",
    "    print(\"No missing values found in the DataFrame.\")"
   ]
  },
  {
   "cell_type": "code",
   "execution_count": null,
   "id": "be1110a7",
   "metadata": {},
   "outputs": [],
   "source": [
    "# how many empty same in the coulumn ?\n",
    "empty_space_count = df_clean1['Bean\\nType'].astype(str).str.isspace().sum()\n",
    "    \n",
    "if empty_space_count > 0:\n",
    "        print(f\"Column 'Bean\\\\nType' has {empty_space_count} empty spaces.\")\n",
    "else:\n",
    "        print(\"Column 'Bean\\\\nType' has no empty spaces.\")"
   ]
  },
  {
   "cell_type": "markdown",
   "id": "85d1a4a5",
   "metadata": {},
   "source": [
    "Column 'Bean\\nType' has 887 empty spaces. they are missing value and since it is a large number we will not remove any of the row."
   ]
  },
  {
   "cell_type": "code",
   "execution_count": null,
   "id": "b59ee09c",
   "metadata": {},
   "outputs": [],
   "source": [
    "print(unique_countries_count)\n",
    "\n"
   ]
  },
  {
   "cell_type": "code",
   "execution_count": null,
   "id": "4c743e55",
   "metadata": {},
   "outputs": [],
   "source": [
    "print(f'The number of unique countries: {unique_countries_count}')"
   ]
  },
  {
   "cell_type": "code",
   "execution_count": null,
   "id": "a99354e7",
   "metadata": {},
   "outputs": [],
   "source": [
    "#looking at unquie country where chocolate companies are located around the world \n",
    "unique_countries = df_clean1['Company\\nLocation'].unique()\n",
    "print(unique_countries)"
   ]
  },
  {
   "cell_type": "code",
   "execution_count": null,
   "id": "2e30e183",
   "metadata": {},
   "outputs": [],
   "source": [
    "# which country has highest number of chocolate for rating? \n",
    "country_counts = df_clean1['Company\\nLocation'].value_counts()\n",
    "print(country_counts)"
   ]
  },
  {
   "cell_type": "code",
   "execution_count": null,
   "id": "51d95885",
   "metadata": {},
   "outputs": [],
   "source": [
    "CocoaPercent_counts = df_clean1['Cocoa\\nPercent'].value_counts()\n",
    "print(CocoaPercent_counts)"
   ]
  },
  {
   "cell_type": "code",
   "execution_count": null,
   "id": "db6277a7",
   "metadata": {},
   "outputs": [],
   "source": [
    "df_clean1.head()"
   ]
  },
  {
   "cell_type": "code",
   "execution_count": null,
   "id": "85efbd98",
   "metadata": {},
   "outputs": [],
   "source": [
    "df_clean1.isnull().sum()"
   ]
  },
  {
   "cell_type": "code",
   "execution_count": null,
   "id": "16853ab0",
   "metadata": {},
   "outputs": [],
   "source": [
    "path=r'C:\\Users\\banda\\Chocolate'"
   ]
  },
  {
   "cell_type": "code",
   "execution_count": null,
   "id": "9f7553c8",
   "metadata": {},
   "outputs": [],
   "source": [
    "#import clean Chocolate dataframe\n",
    "df_clean1.to_csv(os.path.join(path, '02 Data','Prepared Data', 'chocoalate_clean.csv'))"
   ]
  }
 ],
 "metadata": {
  "kernelspec": {
   "display_name": "Python 3 (ipykernel)",
   "language": "python",
   "name": "python3"
  },
  "language_info": {
   "codemirror_mode": {
    "name": "ipython",
    "version": 3
   },
   "file_extension": ".py",
   "mimetype": "text/x-python",
   "name": "python",
   "nbconvert_exporter": "python",
   "pygments_lexer": "ipython3",
   "version": "3.11.5"
  }
 },
 "nbformat": 4,
 "nbformat_minor": 5
}
